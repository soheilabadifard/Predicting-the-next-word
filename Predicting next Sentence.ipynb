{
 "cells": [
  {
   "cell_type": "markdown",
   "source": [
    "# Predicting the next word"
   ],
   "metadata": {
    "collapsed": false
   },
   "id": "f9068cf36a15001c"
  },
  {
   "cell_type": "code",
   "execution_count": null,
   "outputs": [],
   "source": [
    "import numpy as np\n",
    "import matplotlib.pyplot as plt\n",
    "from tensorflow.keras.models import Sequential\n",
    "from tensorflow.keras.utils import to_categorical\n",
    "from tensorflow.keras.preprocessing.text import Tokenizer\n",
    "from tensorflow.keras.preprocessing.sequence import pad_sequences\n",
    "from tensorflow.keras.layers import Embedding, LSTM, Dense, Bidirectional"
   ],
   "metadata": {
    "collapsed": false
   },
   "id": "933f17da9b2d1c0e"
  },
  {
   "cell_type": "markdown",
   "source": [
    "For this task we will use the [Shakespeare Sonnets Dataset](https://www.opensourceshakespeare.org/views/sonnets/sonnet_view.php?range=viewrange&sonnetrange1=1&sonnetrange2=154), which contains more than 2000 lines of text extracted from Shakespeare's sonnets."
   ],
   "metadata": {
    "collapsed": false
   },
   "id": "2570bc59cce4d68"
  },
  {
   "cell_type": "code",
   "execution_count": null,
   "outputs": [
    {
     "output_type": "stream",
     "name": "stdout",
     "text": [
      "/usr/local/lib/python3.7/dist-packages/gdown/cli.py:131: FutureWarning: Option `--id` was deprecated in version 4.3.1 and will be removed in 5.0. You don't need to pass it anymore to use a file ID.\n",
      "  category=FutureWarning,\n",
      "Downloading...\n",
      "From: https://drive.google.com/uc?id=108jAePKK4R3BVYBbYJZ32JWUwxeMg20K\n",
      "To: /content/sonnets.txt\n",
      "100% 93.6k/93.6k [00:00<00:00, 91.2MB/s]\n"
     ]
    }
   ],
   "source": [
    "# sonnets.txt\n",
    "!gdown --id 108jAePKK4R3BVYBbYJZ32JWUwxeMg20K"
   ],
   "metadata": {
    "collapsed": false
   },
   "id": "2e0681d1604ca277"
  },
  {
   "cell_type": "code",
   "execution_count": null,
   "outputs": [
    {
     "output_type": "stream",
     "name": "stdout",
     "text": [
      "There are 2159 lines of sonnets\n",
      "\n",
      "The first 5 lines look like this:\n",
      "\n",
      "from fairest creatures we desire increase,\n",
      "that thereby beauty's rose might never die,\n",
      "but as the riper should by time decease,\n",
      "his tender heir might bear his memory:\n",
      "but thou, contracted to thine own bright eyes,\n"
     ]
    }
   ],
   "source": [
    "# Define path for file with sonnets\n",
    "SONNETS_FILE = './sonnets.txt'\n",
    "\n",
    "# Read the data\n",
    "with open('./sonnets.txt') as f:\n",
    "    data = f.read()\n",
    "\n",
    "# Convert to lower case and save as a list\n",
    "corpus = data.lower().split(\"\\n\")\n",
    "\n",
    "print(f\"There are {len(corpus)} lines of sonnets\\n\")\n",
    "print(f\"The first 5 lines look like this:\\n\")\n",
    "for i in range(5):\n",
    "  print(corpus[i])"
   ],
   "metadata": {
    "collapsed": false
   },
   "id": "d1997d0cf6f3437"
  },
  {
   "cell_type": "markdown",
   "source": [
    "## Tokenizing the text\n",
    "\n",
    "Now fit the Tokenizer to the corpus and save the total number of words."
   ],
   "metadata": {
    "collapsed": false
   },
   "id": "844f7528358374b3"
  },
  {
   "cell_type": "code",
   "execution_count": null,
   "outputs": [],
   "source": [
    "tokenizer = Tokenizer()\n",
    "tokenizer.fit_on_texts(corpus)\n",
    "total_words = len(tokenizer.word_index) + 1"
   ],
   "metadata": {
    "collapsed": false
   },
   "id": "d9bc986f5a91cae"
  },
  {
   "cell_type": "markdown",
   "source": [
    "In this function we need to process this corpus one line at a time."
   ],
   "metadata": {
    "collapsed": false
   },
   "id": "91e3a1a9226a7fef"
  },
  {
   "cell_type": "code",
   "execution_count": null,
   "outputs": [
    {
     "output_type": "execute_result",
     "data": {
      "text/plain": [
       "[[34, 417, 877, 166, 213, 517]]"
      ]
     },
     "metadata": {},
     "execution_count": 7
    }
   ],
   "source": [
    "tokenizer.texts_to_sequences([corpus[0]])"
   ],
   "metadata": {
    "collapsed": false
   },
   "id": "b9a016ff49014643"
  },
  {
   "cell_type": "markdown",
   "source": [
    "## Generating n_grams\n",
    "\n",
    "This function receives the fitted tokenizer and the corpus (which is a list of strings) and returns a list containing the `n_gram` sequences for each line in the corpus:"
   ],
   "metadata": {
    "collapsed": false
   },
   "id": "fb42d12193d07777"
  },
  {
   "cell_type": "code",
   "execution_count": null,
   "outputs": [],
   "source": [
    "def n_gram_seqs(corpus, tokenizer):\n",
    "    \"\"\"\n",
    "    Generates a list of n-gram sequences\n",
    "\n",
    "    Args:\n",
    "        corpus (list of string): lines of texts to generate n-grams for\n",
    "        tokenizer (object): an instance of the Tokenizer class containing the word-index dictionary\n",
    "\n",
    "    Returns:\n",
    "        input_sequences (list of int): the n-gram sequences for each line in the corpus\n",
    "    \"\"\"\n",
    "    input_sequences = []\n",
    "\n",
    "    for ln in corpus:\n",
    "        tkn_list = tokenizer.texts_to_sequences([ln])[0]\n",
    "        for i in range(1, len(tkn_list)):\n",
    "            aux = tkn_list[:i+1]\n",
    "            input_sequences.append(aux)\n",
    "    return input_sequences"
   ],
   "metadata": {
    "collapsed": false
   },
   "id": "da1a1644188711a1"
  },
  {
   "cell_type": "code",
   "execution_count": null,
   "outputs": [
    {
     "output_type": "stream",
     "name": "stdout",
     "text": [
      "n_gram sequences for first example look like this:\n"
     ]
    },
    {
     "output_type": "execute_result",
     "data": {
      "text/plain": [
       "[[34, 417],\n",
       " [34, 417, 877],\n",
       " [34, 417, 877, 166],\n",
       " [34, 417, 877, 166, 213],\n",
       " [34, 417, 877, 166, 213, 517]]"
      ]
     },
     "metadata": {},
     "execution_count": 10
    }
   ],
   "source": [
    "first_example_sequence = n_gram_seqs([corpus[0]], tokenizer)\n",
    "print(\"n_gram sequences for first example look like this:\\n\")\n",
    "first_example_sequence"
   ],
   "metadata": {
    "collapsed": false
   },
   "id": "c7f81e7c3edc3f68"
  },
  {
   "cell_type": "code",
   "execution_count": null,
   "outputs": [
    {
     "output_type": "stream",
     "name": "stdout",
     "text": [
      "n_gram sequences for next 3 examples look like this:\n"
     ]
    },
    {
     "output_type": "execute_result",
     "data": {
      "text/plain": [
       "[[8, 878],\n",
       " [8, 878, 134],\n",
       " [8, 878, 134, 351],\n",
       " [8, 878, 134, 351, 102],\n",
       " [8, 878, 134, 351, 102, 156],\n",
       " [8, 878, 134, 351, 102, 156, 199],\n",
       " [16, 22],\n",
       " [16, 22, 2],\n",
       " [16, 22, 2, 879],\n",
       " [16, 22, 2, 879, 61],\n",
       " [16, 22, 2, 879, 61, 30],\n",
       " [16, 22, 2, 879, 61, 30, 48],\n",
       " [16, 22, 2, 879, 61, 30, 48, 634],\n",
       " [25, 311],\n",
       " [25, 311, 635],\n",
       " [25, 311, 635, 102],\n",
       " [25, 311, 635, 102, 200],\n",
       " [25, 311, 635, 102, 200, 25],\n",
       " [25, 311, 635, 102, 200, 25, 278]]"
      ]
     },
     "metadata": {},
     "execution_count": 11
    }
   ],
   "source": [
    "next_3_examples_sequence = n_gram_seqs(corpus[1:4], tokenizer)\n",
    "print(\"n_gram sequences for next 3 examples look like this:\\n\")\n",
    "next_3_examples_sequence"
   ],
   "metadata": {
    "collapsed": false
   },
   "id": "4f817357d9eb9b6"
  },
  {
   "cell_type": "markdown",
   "source": [
    "Apply the `n_gram_seqs` transformation to the whole corpus and save the maximum sequence length to use it later:"
   ],
   "metadata": {
    "collapsed": false
   },
   "id": "3865884d014f972a"
  },
  {
   "cell_type": "code",
   "execution_count": null,
   "outputs": [
    {
     "output_type": "stream",
     "name": "stdout",
     "text": [
      "n_grams of input_sequences have length: 15462\n",
      "maximum length of sequences is: 11\n"
     ]
    }
   ],
   "source": [
    "# Apply the n_gram_seqs transformation to the whole corpus\n",
    "input_sequences = n_gram_seqs(corpus, tokenizer)\n",
    "\n",
    "# Save max length\n",
    "max_sequence_len = max([len(x) for x in input_sequences])\n",
    "\n",
    "print(f\"n_grams of input_sequences have length: {len(input_sequences)}\")\n",
    "print(f\"maximum length of sequences is: {max_sequence_len}\")"
   ],
   "metadata": {
    "collapsed": false
   },
   "id": "f9548e391fbf057c"
  },
  {
   "cell_type": "markdown",
   "source": [
    "## Add padding to the sequences\n",
    "\n",
    "the `pad_seqs` function pads any given sequences to the desired maximum length."
   ],
   "metadata": {
    "collapsed": false
   },
   "id": "13fecc77f2c7d319"
  },
  {
   "cell_type": "code",
   "execution_count": null,
   "outputs": [],
   "source": [
    "def pad_seqs(input_sequences, maxlen):\n",
    "    \"\"\"\n",
    "    Pads tokenized sequences to the same length\n",
    "\n",
    "    Args:\n",
    "        input_sequences (list of int): tokenized sequences to pad\n",
    "        maxlen (int): maximum length of the token sequences\n",
    "\n",
    "    Returns:\n",
    "        padded_sequences (array of int): tokenized sequences padded to the same length\n",
    "    \"\"\"\n",
    "    padded_sequences = np.array(pad_sequences(input_sequences,maxlen = maxlen))\n",
    "    return padded_sequences"
   ],
   "metadata": {
    "collapsed": false
   },
   "id": "f890c446c43cb26b"
  },
  {
   "cell_type": "code",
   "execution_count": null,
   "outputs": [
    {
     "output_type": "execute_result",
     "data": {
      "text/plain": [
       "array([[  0,   0,   0,  34, 417],\n",
       "       [  0,   0,  34, 417, 877],\n",
       "       [  0,  34, 417, 877, 166],\n",
       "       [ 34, 417, 877, 166, 213],\n",
       "       [417, 877, 166, 213, 517]], dtype=int32)"
      ]
     },
     "metadata": {},
     "execution_count": 14
    }
   ],
   "source": [
    "first_padded_seq = pad_seqs(first_example_sequence, len(first_example_sequence))\n",
    "first_padded_seq"
   ],
   "metadata": {
    "collapsed": false
   },
   "id": "d055421da031f498"
  },
  {
   "cell_type": "code",
   "execution_count": null,
   "outputs": [
    {
     "output_type": "execute_result",
     "data": {
      "text/plain": [
       "array([[  0,   0,   0,   0,   0,   0,   8, 878],\n",
       "       [  0,   0,   0,   0,   0,   8, 878, 134],\n",
       "       [  0,   0,   0,   0,   8, 878, 134, 351],\n",
       "       [  0,   0,   0,   8, 878, 134, 351, 102],\n",
       "       [  0,   0,   8, 878, 134, 351, 102, 156],\n",
       "       [  0,   8, 878, 134, 351, 102, 156, 199],\n",
       "       [  0,   0,   0,   0,   0,   0,  16,  22],\n",
       "       [  0,   0,   0,   0,   0,  16,  22,   2],\n",
       "       [  0,   0,   0,   0,  16,  22,   2, 879],\n",
       "       [  0,   0,   0,  16,  22,   2, 879,  61],\n",
       "       [  0,   0,  16,  22,   2, 879,  61,  30],\n",
       "       [  0,  16,  22,   2, 879,  61,  30,  48],\n",
       "       [ 16,  22,   2, 879,  61,  30,  48, 634],\n",
       "       [  0,   0,   0,   0,   0,   0,  25, 311],\n",
       "       [  0,   0,   0,   0,   0,  25, 311, 635],\n",
       "       [  0,   0,   0,   0,  25, 311, 635, 102],\n",
       "       [  0,   0,   0,  25, 311, 635, 102, 200],\n",
       "       [  0,   0,  25, 311, 635, 102, 200,  25],\n",
       "       [  0,  25, 311, 635, 102, 200,  25, 278]], dtype=int32)"
      ]
     },
     "metadata": {},
     "execution_count": 15
    }
   ],
   "source": [
    "next_3_padded_seq = pad_seqs(next_3_examples_sequence, max([len(s) for s in next_3_examples_sequence]))\n",
    "next_3_padded_seq"
   ],
   "metadata": {
    "collapsed": false
   },
   "id": "4108bc1d7aa4e8e9"
  },
  {
   "cell_type": "code",
   "execution_count": null,
   "outputs": [
    {
     "output_type": "stream",
     "name": "stdout",
     "text": [
      "padded corpus has shape: (15462, 11)\n"
     ]
    }
   ],
   "source": [
    "# Pad the whole corpus\n",
    "input_sequences = pad_seqs(input_sequences, max_sequence_len)\n",
    "\n",
    "print(f\"padded corpus has shape: {input_sequences.shape}\")"
   ],
   "metadata": {
    "collapsed": false
   },
   "id": "3d3755154a6c1789"
  },
  {
   "cell_type": "markdown",
   "source": [
    "## Split the data into features and labels\n",
    "\n",
    "Before feeding the data into the neural network we should split it into features and labels. In this case the features will be the padded n_gram sequences with the last word removed from them and the labels will be the removed word.\n",
    "\n",
    "This function expects the padded n_gram sequences as input and returns a tuple containing the features and the one hot encoded labels."
   ],
   "metadata": {
    "collapsed": false
   },
   "id": "de9ab2898db482c1"
  },
  {
   "cell_type": "code",
   "execution_count": null,
   "outputs": [],
   "source": [
    "def features_and_labels(input_sequences, total_words):\n",
    "    \"\"\"\n",
    "    Generates features and labels from n-grams\n",
    "\n",
    "    Args:\n",
    "        input_sequences (list of int): sequences to split features and labels from\n",
    "        total_words (int): vocabulary size\n",
    "\n",
    "    Returns:\n",
    "        features, one_hot_labels (array of int, array of int): arrays of features and one-hot encoded labels\n",
    "    \"\"\"\n",
    "    features = input_sequences[:,:-1]\n",
    "    labels = input_sequences[:,-1]\n",
    "    one_hot_labels = to_categorical(labels, num_classes=total_words)\n",
    "    return features, one_hot_labels"
   ],
   "metadata": {
    "collapsed": false
   },
   "id": "43f76e999f25f06c"
  },
  {
   "cell_type": "code",
   "execution_count": null,
   "outputs": [
    {
     "output_type": "stream",
     "name": "stdout",
     "text": [
      "labels have shape: (5, 3211)\n",
      "\n",
      "features look like this:\n"
     ]
    },
    {
     "output_type": "execute_result",
     "data": {
      "text/plain": [
       "array([[  0,   0,   0,  34],\n",
       "       [  0,   0,  34, 417],\n",
       "       [  0,  34, 417, 877],\n",
       "       [ 34, 417, 877, 166],\n",
       "       [417, 877, 166, 213]], dtype=int32)"
      ]
     },
     "metadata": {},
     "execution_count": 18
    }
   ],
   "source": [
    "first_features, first_labels = features_and_labels(first_padded_seq, total_words)\n",
    "\n",
    "print(f\"labels have shape: {first_labels.shape}\")\n",
    "print(\"\\nfeatures look like this:\\n\")\n",
    "first_features"
   ],
   "metadata": {
    "collapsed": false
   },
   "id": "bcbda99654d3a571"
  },
  {
   "cell_type": "code",
   "execution_count": null,
   "outputs": [
    {
     "output_type": "stream",
     "name": "stdout",
     "text": [
      "features have shape: (15462, 10)\n",
      "labels have shape: (15462, 3211)\n"
     ]
    }
   ],
   "source": [
    "# Split the whole corpus\n",
    "features, labels = features_and_labels(input_sequences, total_words)\n",
    "\n",
    "print(f\"features have shape: {features.shape}\")\n",
    "print(f\"labels have shape: {labels.shape}\")"
   ],
   "metadata": {
    "collapsed": false
   },
   "id": "757a945683204eaa"
  },
  {
   "cell_type": "markdown",
   "source": [
    "## Create the model\n",
    "\n",
    "Now we define a model architecture capable of achieving an accuracy of at least 80%."
   ],
   "metadata": {
    "collapsed": false
   },
   "id": "77df2584b0400295"
  },
  {
   "cell_type": "code",
   "execution_count": null,
   "outputs": [],
   "source": [
    "def create_model(total_words, max_sequence_len):\n",
    "    \"\"\"\n",
    "    Creates a text generator model\n",
    "\n",
    "    Args:\n",
    "        total_words (int): size of the vocabulary for the Embedding layer input\n",
    "        max_sequence_len (int): length of the input sequences\n",
    "\n",
    "    Returns:\n",
    "        model (tf.keras Model): the text generator model\n",
    "    \"\"\"\n",
    "    model = Sequential()\n",
    "\n",
    "    model.add(Embedding(total_words, 100, input_length=max_sequence_len - 1))\n",
    "    model.add(Bidirectional(LSTM(128)))\n",
    "    model.add(Dense(total_words, activation = 'softmax'))\n",
    "\n",
    "\n",
    "    # Compile the model\n",
    "    model.compile(loss= 'categorical_crossentropy',\n",
    "                  optimizer='nadam',\n",
    "                  metrics=['accuracy'])\n",
    "\n",
    "    return model"
   ],
   "metadata": {
    "collapsed": false
   },
   "id": "b0486b2702a0ba51"
  },
  {
   "cell_type": "code",
   "execution_count": null,
   "outputs": [
    {
     "output_type": "stream",
     "name": "stdout",
     "text": [
      "Epoch 1/50\n",
      "484/484 [==============================] - 8s 10ms/step - loss: 6.8480 - accuracy: 0.0228\n",
      "Epoch 2/50\n",
      "484/484 [==============================] - 5s 10ms/step - loss: 6.4361 - accuracy: 0.0315\n",
      "Epoch 3/50\n",
      "484/484 [==============================] - 5s 10ms/step - loss: 6.2244 - accuracy: 0.0399\n",
      "Epoch 4/50\n",
      "484/484 [==============================] - 5s 10ms/step - loss: 5.9814 - accuracy: 0.0511\n",
      "Epoch 5/50\n",
      "484/484 [==============================] - 5s 10ms/step - loss: 5.6976 - accuracy: 0.0590\n",
      "Epoch 6/50\n",
      "484/484 [==============================] - 5s 10ms/step - loss: 5.3800 - accuracy: 0.0716\n",
      "Epoch 7/50\n",
      "484/484 [==============================] - 5s 10ms/step - loss: 5.0429 - accuracy: 0.0868\n",
      "Epoch 8/50\n",
      "484/484 [==============================] - 5s 10ms/step - loss: 4.6790 - accuracy: 0.1080\n",
      "Epoch 9/50\n",
      "484/484 [==============================] - 5s 10ms/step - loss: 4.3147 - accuracy: 0.1392\n",
      "Epoch 10/50\n",
      "484/484 [==============================] - 5s 10ms/step - loss: 3.9626 - accuracy: 0.1895\n",
      "Epoch 11/50\n",
      "484/484 [==============================] - 5s 10ms/step - loss: 3.6343 - accuracy: 0.2429\n",
      "Epoch 12/50\n",
      "484/484 [==============================] - 5s 10ms/step - loss: 3.3347 - accuracy: 0.3002\n",
      "Epoch 13/50\n",
      "484/484 [==============================] - 5s 10ms/step - loss: 3.0668 - accuracy: 0.3503\n",
      "Epoch 14/50\n",
      "484/484 [==============================] - 5s 10ms/step - loss: 2.8293 - accuracy: 0.3936\n",
      "Epoch 15/50\n",
      "484/484 [==============================] - 5s 10ms/step - loss: 2.6189 - accuracy: 0.4367\n",
      "Epoch 16/50\n",
      "484/484 [==============================] - 5s 10ms/step - loss: 2.4332 - accuracy: 0.4753\n",
      "Epoch 17/50\n",
      "484/484 [==============================] - 5s 10ms/step - loss: 2.2623 - accuracy: 0.5114\n",
      "Epoch 18/50\n",
      "484/484 [==============================] - 5s 10ms/step - loss: 2.1049 - accuracy: 0.5469\n",
      "Epoch 19/50\n",
      "484/484 [==============================] - 5s 10ms/step - loss: 1.9730 - accuracy: 0.5742\n",
      "Epoch 20/50\n",
      "484/484 [==============================] - 5s 10ms/step - loss: 1.8377 - accuracy: 0.6052\n",
      "Epoch 21/50\n",
      "484/484 [==============================] - 5s 10ms/step - loss: 1.7211 - accuracy: 0.6279\n",
      "Epoch 22/50\n",
      "484/484 [==============================] - 5s 10ms/step - loss: 1.6089 - accuracy: 0.6548\n",
      "Epoch 23/50\n",
      "484/484 [==============================] - 5s 10ms/step - loss: 1.5197 - accuracy: 0.6731\n",
      "Epoch 24/50\n",
      "484/484 [==============================] - 5s 10ms/step - loss: 1.4229 - accuracy: 0.6939\n",
      "Epoch 25/50\n",
      "484/484 [==============================] - 5s 10ms/step - loss: 1.3405 - accuracy: 0.7120\n",
      "Epoch 26/50\n",
      "484/484 [==============================] - 5s 10ms/step - loss: 1.2620 - accuracy: 0.7316\n",
      "Epoch 27/50\n",
      "484/484 [==============================] - 5s 10ms/step - loss: 1.2025 - accuracy: 0.7427\n",
      "Epoch 28/50\n",
      "484/484 [==============================] - 5s 10ms/step - loss: 1.1302 - accuracy: 0.7572\n",
      "Epoch 29/50\n",
      "484/484 [==============================] - 5s 10ms/step - loss: 1.0739 - accuracy: 0.7696\n",
      "Epoch 30/50\n",
      "484/484 [==============================] - 5s 10ms/step - loss: 1.0212 - accuracy: 0.7823\n",
      "Epoch 31/50\n",
      "484/484 [==============================] - 5s 10ms/step - loss: 0.9721 - accuracy: 0.7916\n",
      "Epoch 32/50\n",
      "484/484 [==============================] - 5s 10ms/step - loss: 0.9282 - accuracy: 0.8001\n",
      "Epoch 33/50\n",
      "484/484 [==============================] - 5s 10ms/step - loss: 0.8864 - accuracy: 0.8082\n",
      "Epoch 34/50\n",
      "484/484 [==============================] - 5s 10ms/step - loss: 0.8585 - accuracy: 0.8122\n",
      "Epoch 35/50\n",
      "484/484 [==============================] - 5s 10ms/step - loss: 0.8264 - accuracy: 0.8192\n",
      "Epoch 36/50\n",
      "484/484 [==============================] - 5s 10ms/step - loss: 0.7894 - accuracy: 0.8237\n",
      "Epoch 37/50\n",
      "484/484 [==============================] - 5s 10ms/step - loss: 0.7746 - accuracy: 0.8252\n",
      "Epoch 38/50\n",
      "484/484 [==============================] - 5s 10ms/step - loss: 0.7480 - accuracy: 0.8313\n",
      "Epoch 39/50\n",
      "484/484 [==============================] - 5s 10ms/step - loss: 0.7283 - accuracy: 0.8340\n",
      "Epoch 40/50\n",
      "484/484 [==============================] - 5s 10ms/step - loss: 0.7100 - accuracy: 0.8359\n",
      "Epoch 41/50\n",
      "484/484 [==============================] - 5s 10ms/step - loss: 0.6926 - accuracy: 0.8393\n",
      "Epoch 42/50\n",
      "484/484 [==============================] - 5s 10ms/step - loss: 0.6761 - accuracy: 0.8393\n",
      "Epoch 43/50\n",
      "484/484 [==============================] - 5s 10ms/step - loss: 0.6687 - accuracy: 0.8422\n",
      "Epoch 44/50\n",
      "484/484 [==============================] - 5s 10ms/step - loss: 0.6539 - accuracy: 0.8429\n",
      "Epoch 45/50\n",
      "484/484 [==============================] - 5s 10ms/step - loss: 0.6456 - accuracy: 0.8439\n",
      "Epoch 46/50\n",
      "484/484 [==============================] - 5s 10ms/step - loss: 0.6423 - accuracy: 0.8441\n",
      "Epoch 47/50\n",
      "484/484 [==============================] - 5s 10ms/step - loss: 0.6393 - accuracy: 0.8430\n",
      "Epoch 48/50\n",
      "484/484 [==============================] - 5s 10ms/step - loss: 0.6242 - accuracy: 0.8456\n",
      "Epoch 49/50\n",
      "484/484 [==============================] - 5s 10ms/step - loss: 0.6087 - accuracy: 0.8476\n",
      "Epoch 50/50\n",
      "484/484 [==============================] - 5s 10ms/step - loss: 0.6076 - accuracy: 0.8474\n"
     ]
    }
   ],
   "source": [
    "# Get the untrained model\n",
    "model = create_model(total_words, max_sequence_len)\n",
    "\n",
    "# Train the model\n",
    "history = model.fit(features, labels, epochs=50, verbose=1)"
   ],
   "metadata": {
    "collapsed": false
   },
   "id": "66ff6df06c30167c"
  },
  {
   "cell_type": "code",
   "execution_count": null,
   "outputs": [
    {
     "output_type": "display_data",
     "data": {
      "text/plain": [
       "<Figure size 432x288 with 1 Axes>"
      ],
      "image/png": "[encoded data removed]"
     },
     "metadata": {
      "needs_background": "light"
     }
    },
    {
     "output_type": "display_data",
     "data": {
      "text/plain": [
       "<Figure size 432x288 with 1 Axes>"
      ],
      "image/png": "[encoded data removed]"
     },
     "metadata": {
      "needs_background": "light"
     }
    }
   ],
   "source": [
    "acc = history.history['accuracy']\n",
    "loss = history.history['loss']\n",
    "\n",
    "epochs = range(len(acc))\n",
    "\n",
    "plt.plot(epochs, acc, 'b', label='Training accuracy')\n",
    "plt.title('Training accuracy')\n",
    "\n",
    "plt.figure()\n",
    "\n",
    "plt.plot(epochs, loss, 'b', label='Training Loss')\n",
    "plt.title('Training loss')\n",
    "plt.legend()\n",
    "\n",
    "plt.show()"
   ],
   "metadata": {
    "collapsed": false
   },
   "id": "1b6592c24b44b44"
  },
  {
   "cell_type": "markdown",
   "source": [
    "## See the model in action\n",
    "\n",
    "After all  work it is finally time to see model generating text."
   ],
   "metadata": {
    "collapsed": false
   },
   "id": "3d1aa72daa85e5e7"
  },
  {
   "cell_type": "code",
   "execution_count": null,
   "outputs": [
    {
     "output_type": "stream",
     "name": "stdout",
     "text": [
      "Help me Obi Wan Kenobi, you're my only hope and my heart his treasure gain behind his wit fame truth ' more ' a face unrespected but on thee memory left behind thee head again hate light ushers men will store me wrong than brows worse more strong find now spend spend four learn seething blind makest brave son die thee still do behind not live ' a tomb the ocean cross ' of her lies i hate lie so thee thee see not so see me as i thence thy friend slain you live thee ' lies ' more back of thee now live lose life rare '\n"
     ]
    }
   ],
   "source": [
    "seed_text = \"Help me Obi Wan Kenobi, you're my only hope\"\n",
    "next_words = 100\n",
    "\n",
    "for _ in range(next_words):\n",
    "\t# Convert the text into sequences\n",
    "\ttoken_list = tokenizer.texts_to_sequences([seed_text])[0]\n",
    "\t# Pad the sequences\n",
    "\ttoken_list = pad_sequences([token_list], maxlen=max_sequence_len-1, padding='pre')\n",
    "\t# Get the probabilities of predicting a word\n",
    "\tpredicted = model.predict(token_list, verbose=0)\n",
    "\t# Choose the next word based on the maximum probability\n",
    "\tpredicted = np.argmax(predicted, axis=-1).item()\n",
    "\t# Get the actual word from the word index\n",
    "\toutput_word = tokenizer.index_word[predicted]\n",
    "\t# Append to the current text\n",
    "\tseed_text += \" \" + output_word\n",
    "\n",
    "print(seed_text)"
   ],
   "metadata": {
    "collapsed": false
   },
   "id": "3eba787a60278b81"
  }
 ],
 "metadata": {
  "kernelspec": {
   "display_name": "Python 3",
   "language": "python",
   "name": "python3"
  },
  "language_info": {
   "codemirror_mode": {
    "name": "ipython",
    "version": 2
   },
   "file_extension": ".py",
   "mimetype": "text/x-python",
   "name": "python",
   "nbconvert_exporter": "python",
   "pygments_lexer": "ipython2",
   "version": "2.7.6"
  }
 },
 "nbformat": 4,
 "nbformat_minor": 5
}
